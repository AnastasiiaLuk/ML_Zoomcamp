{
 "cells": [
  {
   "cell_type": "markdown",
   "id": "54af32ec",
   "metadata": {},
   "source": [
    "__<h1><center>ML Zoomcamp 2023 - Homework #1</center></h1>__"
   ]
  },
  {
   "cell_type": "code",
   "execution_count": 16,
   "id": "eab1a588",
   "metadata": {},
   "outputs": [],
   "source": [
    "import pandas as pd"
   ]
  },
  {
   "cell_type": "code",
   "execution_count": 17,
   "id": "03e1cd1f",
   "metadata": {},
   "outputs": [
    {
     "data": {
      "text/plain": [
       "'2.1.0'"
      ]
     },
     "execution_count": 17,
     "metadata": {},
     "output_type": "execute_result"
    }
   ],
   "source": [
    "pd.__version__"
   ]
  },
  {
   "cell_type": "code",
   "execution_count": 19,
   "id": "39bd22a6",
   "metadata": {},
   "outputs": [],
   "source": [
    "import pandas as pd\n",
    "\n",
    "url = \"https://raw.githubusercontent.com/alexeygrigorev/datasets/master/housing.csv\"\n",
    "df = pd.read_csv(url)"
   ]
  },
  {
   "cell_type": "markdown",
   "id": "681b2a64",
   "metadata": {},
   "source": [
    "__Question 2<b>__\n",
    "\n",
    "How many columns are in the dataset?\n",
    "\n",
    "10\n",
    "6560\n",
    "10989\n",
    "20640\n"
   ]
  },
  {
   "cell_type": "code",
   "execution_count": 20,
   "id": "8a616ded",
   "metadata": {},
   "outputs": [
    {
     "name": "stdout",
     "output_type": "stream",
     "text": [
      "<class 'pandas.core.frame.DataFrame'>\n",
      "RangeIndex: 20640 entries, 0 to 20639\n",
      "Data columns (total 10 columns):\n",
      " #   Column              Non-Null Count  Dtype  \n",
      "---  ------              --------------  -----  \n",
      " 0   longitude           20640 non-null  float64\n",
      " 1   latitude            20640 non-null  float64\n",
      " 2   housing_median_age  20640 non-null  float64\n",
      " 3   total_rooms         20640 non-null  float64\n",
      " 4   total_bedrooms      20433 non-null  float64\n",
      " 5   population          20640 non-null  float64\n",
      " 6   households          20640 non-null  float64\n",
      " 7   median_income       20640 non-null  float64\n",
      " 8   median_house_value  20640 non-null  float64\n",
      " 9   ocean_proximity     20640 non-null  object \n",
      "dtypes: float64(9), object(1)\n",
      "memory usage: 1.6+ MB\n"
     ]
    }
   ],
   "source": [
    "df.info()"
   ]
  },
  {
   "cell_type": "markdown",
   "id": "37d09fa9",
   "metadata": {},
   "source": [
    "__Question 3<b>__\n",
    "\n",
    "Which columns in the dataset have missing values?\n",
    "\n",
    "total_rooms\n",
    "total_bedrooms\n",
    "both of the above\n",
    "no empty columns in the dataset\n"
   ]
  },
  {
   "cell_type": "code",
   "execution_count": 13,
   "id": "02effd32",
   "metadata": {},
   "outputs": [
    {
     "name": "stdout",
     "output_type": "stream",
     "text": [
      "longitude               0\n",
      "latitude                0\n",
      "housing_median_age      0\n",
      "total_rooms             0\n",
      "total_bedrooms        207\n",
      "population              0\n",
      "households              0\n",
      "median_income           0\n",
      "median_house_value      0\n",
      "ocean_proximity         0\n",
      "dtype: int64\n"
     ]
    }
   ],
   "source": [
    "missing_values = df.isna().sum()\n",
    "print(missing_values)"
   ]
  },
  {
   "cell_type": "markdown",
   "id": "d6cc2600",
   "metadata": {},
   "source": [
    "__Question 4<b>__\n",
    "    \n",
    "How many unique values does the ocean_proximity column have?\n",
    "\n",
    "3\n",
    "5\n",
    "7\n",
    "9"
   ]
  },
  {
   "cell_type": "code",
   "execution_count": 14,
   "id": "c4825d93",
   "metadata": {},
   "outputs": [
    {
     "name": "stdout",
     "output_type": "stream",
     "text": [
      "5\n"
     ]
    }
   ],
   "source": [
    "unique_values = df['ocean_proximity'].nunique()\n",
    "\n",
    "# Print the number of unique values\n",
    "print(unique_values)"
   ]
  },
  {
   "cell_type": "markdown",
   "id": "fdb8a15b",
   "metadata": {},
   "source": [
    "__Question 5__<b>\n",
    "    \n",
    "What's the average value of the median_house_value for the houses located near the bay?\n",
    "\n",
    "49433\n",
    "124805\n",
    "259212\n",
    "380440\n"
   ]
  },
  {
   "cell_type": "code",
   "execution_count": 22,
   "id": "e66c4124",
   "metadata": {},
   "outputs": [
    {
     "name": "stdout",
     "output_type": "stream",
     "text": [
      "259212.31179039303\n"
     ]
    }
   ],
   "source": [
    "bay_houses = df[df['ocean_proximity'] == 'NEAR BAY']\n",
    "average_value_near_bay = bay_houses['median_house_value'].mean()\n",
    "\n",
    "print(average_value_near_bay)"
   ]
  },
  {
   "cell_type": "markdown",
   "id": "1a8fcefc",
   "metadata": {},
   "source": [
    "__Question 6__<b>\n",
    "   \n",
    "Calculate the average of total_bedrooms column in the dataset.\n",
    "    \n",
    "Use the fillna method to fill the missing values in total_bedrooms with the mean value from the previous step.\n",
    "    \n",
    "Now, calculate the average of total_bedrooms again.\n",
    "    \n",
    "Has it changed?"
   ]
  },
  {
   "cell_type": "code",
   "execution_count": 25,
   "id": "79576f12",
   "metadata": {},
   "outputs": [
    {
     "name": "stdout",
     "output_type": "stream",
     "text": [
      "537.8705525375617\n"
     ]
    }
   ],
   "source": [
    "average_total_bedrooms_before = df['total_bedrooms'].mean()\n",
    "df['total_bedrooms'].fillna(average_total_bedrooms_before, inplace=True)\n",
    "average_total_bedrooms_after = df['total_bedrooms'].mean()\n",
    "\n",
    "print(average_total_bedrooms_after)"
   ]
  },
  {
   "cell_type": "markdown",
   "id": "d146847e",
   "metadata": {},
   "source": [
    "__Question 7<b>__\n",
    "    \n",
    "Select all the options located on islands.\n",
    "    \n",
    "Select only columns housing_median_age, total_rooms, total_bedrooms.\n",
    "    \n",
    "Get the underlying NumPy array. Let's call it X.\n",
    "    \n",
    "Compute matrix-matrix multiplication between the transpose of X and X. To get the transpose, use X.T. Let's call the result XTX.\n",
    "    \n",
    "Compute the inverse of XTX.\n",
    "    \n",
    "Create an array y with values [950, 1300, 800, 1000, 1300].\n",
    "    \n",
    "Multiply the inverse of XTX with the transpose of X, and then multiply the result by y. Call the result w.\n",
    "    \n",
    "What's the value of the last element of w?"
   ]
  },
  {
   "cell_type": "code",
   "execution_count": 55,
   "id": "eb0c1738",
   "metadata": {},
   "outputs": [
    {
     "name": "stdout",
     "output_type": "stream",
     "text": [
      "5.699229455065565\n"
     ]
    }
   ],
   "source": [
    "import numpy as np\n",
    "\n",
    "\n",
    "island_options = df[df['ocean_proximity'] == 'ISLAND']\n",
    "selected_columns = island_options[['housing_median_age', 'total_rooms', 'total_bedrooms']]\n",
    "\n",
    "\n",
    "X = selected_columns.values\n",
    "\n",
    "XTX = np.dot(X.T, X)\n",
    "inv_XTX = np.linalg.inv(XTX)\n",
    "\n",
    "y = np.array([950, 1300, 800, 1000, 1300])\n",
    "\n",
    "\n",
    "w = np.dot(np.dot(inv_XTX, X.T), y)\n",
    "last_element_w = w[-1]\n",
    "\n",
    "print(last_element_w)"
   ]
  }
 ],
 "metadata": {
  "kernelspec": {
   "display_name": "Python 3 (ipykernel)",
   "language": "python",
   "name": "python3"
  },
  "language_info": {
   "codemirror_mode": {
    "name": "ipython",
    "version": 3
   },
   "file_extension": ".py",
   "mimetype": "text/x-python",
   "name": "python",
   "nbconvert_exporter": "python",
   "pygments_lexer": "ipython3",
   "version": "3.10.9"
  }
 },
 "nbformat": 4,
 "nbformat_minor": 5
}

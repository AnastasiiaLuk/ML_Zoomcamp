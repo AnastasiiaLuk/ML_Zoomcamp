{
 "cells": [
  {
   "cell_type": "markdown",
   "id": "7387d94b",
   "metadata": {},
   "source": [
    "__<h2><center>ML Zoomcamp 2023 - Homework #5 </h2> </center>__"
   ]
  },
  {
   "cell_type": "markdown",
   "id": "ad096c23",
   "metadata": {},
   "source": [
    "__Question 1__\n",
    "Install Pipenv. \n",
    "What's the version of pipenv you installed?\n",
    "Use --version to find out"
   ]
  },
  {
   "cell_type": "markdown",
   "id": "b96a10aa",
   "metadata": {},
   "source": [
    ">**Answer Q1:**  version 2023.10.3"
   ]
  },
  {
   "cell_type": "markdown",
   "id": "8acd5f2c",
   "metadata": {},
   "source": [
    "__Question 2__\n",
    "Use Pipenv to install Scikit-Learn version 1.3.1\n",
    "What's the first hash for scikit-learn you get in Pipfile.lock?\n",
    "Note: you should create an empty folder for homework and do it there."
   ]
  },
  {
   "cell_type": "markdown",
   "id": "f7d6fcf9",
   "metadata": {},
   "source": [
    "__Models__\n",
    "We've prepared a dictionary vectorizer and a model.\n",
    "\n",
    "They were trained (roughly) using this code:\n",
    "\n",
    "features = ['job','duration', 'poutcome']\n",
    "dicts = df[features].to_dict(orient='records')\n",
    "\n",
    "dv = DictVectorizer(sparse=False)\n",
    "X = dv.fit_transform(dicts)\n",
    "\n",
    "model = LogisticRegression().fit(X, y)\n",
    "Note: You don't need to train the model. This code is just for your reference.\n",
    "\n",
    "And then saved with Pickle. Download them:\n",
    "\n",
    "DictVectorizer\n",
    "LogisticRegression\n",
    "With wget:\n",
    "\n",
    "PREFIX=https://raw.githubusercontent.com/DataTalksClub/machine-learning-zoomcamp/master/cohorts/2023/05-deployment/homework\n"
   ]
  },
  {
   "cell_type": "code",
   "execution_count": 1,
   "outputs": [
    {
     "name": "stdout",
     "output_type": "stream",
     "text": [
      "\u001B[1mCreating a Pipfile for this project\u001B[0m\u001B[1;33m...\u001B[0m\r\n",
      "\u001B[1;32mInstalling scikit-\u001B[0m\u001B[1;33mlearn\u001B[0m\u001B[1;32m==\u001B[0m\u001B[1;36m1.3\u001B[0m\u001B[1;32m.\u001B[0m\u001B[1;36m1\u001B[0m\u001B[1;33m...\u001B[0m\r\n",
      "\u001B[?25lResolving scikit-\u001B[33mlearn\u001B[0m==\u001B[1;36m1.3\u001B[0m.\u001B[1;36m1\u001B[0m\u001B[33m...\u001B[0m\r\n",
      "\u001B[2K\u001B[1mAdded \u001B[0m\u001B[1;32mscikit-learn\u001B[0m to Pipfile's \u001B[1;33m[\u001B[0m\u001B[33mpackages\u001B[0m\u001B[1;33m]\u001B[0m \u001B[33m...\u001B[0m\r\n",
      "\u001B[2K✔ Installation Succeeded-learn...\r\n",
      "\u001B[2K\u001B[32m⠋\u001B[0m Installing scikit-learn...\r\n",
      "\u001B[1A\u001B[2K\u001B[1mPipfile.lock not found, creating\u001B[0m\u001B[1;33m...\u001B[0m\r\n",
      "Locking\u001B[0m \u001B[33m[packages]\u001B[0m dependencies...\u001B[0m\r\n",
      "\u001B[?25lBuilding requirements\u001B[33m...\u001B[0m\r\n",
      "\u001B[2KResolving dependencies\u001B[33m...\u001B[0m\r\n",
      "\u001B[2K✔ Success! Locking...\r\n",
      "\u001B[2K\u001B[32m⠸\u001B[0m Locking...\r\n",
      "\u001B[1A\u001B[2KLocking\u001B[0m \u001B[33m[dev-packages]\u001B[0m dependencies...\u001B[0m\r\n",
      "\u001B[1mUpdated Pipfile.lock (0e0fec5cb0e411bbb2c1c4f81b061609272a25d0c1f780d06dd30aff281bed02)!\u001B[0m\r\n",
      "\u001B[1mInstalling dependencies from Pipfile.lock \u001B[0m\u001B[1m(\u001B[0m\u001B[1m1bed02\u001B[0m\u001B[1m)\u001B[0m\u001B[1;33m...\u001B[0m\r\n",
      "To activate this project's virtualenv, run \u001B[33mpipenv shell\u001B[0m.\r\n",
      "Alternatively, run a command inside the virtualenv with \u001B[33mpipenv run\u001B[0m.\r\n"
     ]
    }
   ],
   "source": [
    "! pipenv install scikit-learn==1.3.1"
   ],
   "metadata": {
    "collapsed": false,
    "ExecuteTime": {
     "end_time": "2023-10-17T00:47:31.561551Z",
     "start_time": "2023-10-17T00:47:29.162022Z"
    }
   }
  },
  {
   "cell_type": "code",
   "execution_count": 2,
   "outputs": [
    {
     "name": "stdout",
     "output_type": "stream",
     "text": [
      "{\r\n",
      "    \"_meta\": {\r\n",
      "        \"hash\": {\r\n",
      "            \"sha256\": \"0e0fec5cb0e411bbb2c1c4f81b061609272a25d0c1f780d06dd30aff281bed02\"\r\n",
      "        },\r\n",
      "        \"pipfile-spec\": 6,\r\n",
      "        \"requires\": {\r\n",
      "            \"python_version\": \"3.10\"\r\n",
      "        },\r\n",
      "        \"sources\": [\r\n",
      "            {\r\n",
      "                \"name\": \"pypi\",\r\n",
      "                \"url\": \"https://pypi.org/simple\",\r\n",
      "                \"verify_ssl\": true\r\n",
      "            }\r\n",
      "        ]\r\n",
      "    },\r\n",
      "    \"default\": {\r\n",
      "        \"joblib\": {\r\n",
      "            \"hashes\": [\r\n",
      "                \"sha256:92f865e621e17784e7955080b6d042489e3b8e294949cc44c6eac304f59772b1\",\r\n",
      "                \"sha256:ef4331c65f239985f3f2220ecc87db222f08fd22097a3dd5698f693875f8cbb9\"\r\n",
      "            ],\r\n",
      "            \"markers\": \"python_version >= '3.7'\",\r\n",
      "            \"version\": \"==1.3.2\"\r\n",
      "        },\r\n",
      "        \"numpy\": {\r\n",
      "            \"hashes\": [\r\n",
      "                \"sha256:06934e1a22c54636a059215d6da99e23286424f316fddd979f5071093b648668\",\r\n",
      "                \"sha256:1c59c046c31a43310ad0199d6299e59f57a289e22f0f36951ced1c9eac3665b9\",\r\n",
      "                \"sha256:1d1bd82d539607951cac963388534da3b7ea0e18b149a53cf883d8f699178c0f\",\r\n",
      "                \"sha256:1e11668d6f756ca5ef534b5be8653d16c5352cbb210a5c2a79ff288e937010d5\",\r\n",
      "                \"sha256:3649d566e2fc067597125428db15d60eb42a4e0897fc48d28cb75dc2e0454e53\",\r\n",
      "                \"sha256:59227c981d43425ca5e5c01094d59eb14e8772ce6975d4b2fc1e106a833d5ae2\",\r\n",
      "                \"sha256:6081aed64714a18c72b168a9276095ef9155dd7888b9e74b5987808f0dd0a974\",\r\n",
      "                \"sha256:6965888d65d2848e8768824ca8288db0a81263c1efccec881cb35a0d805fcd2f\",\r\n",
      "                \"sha256:76ff661a867d9272cd2a99eed002470f46dbe0943a5ffd140f49be84f68ffc42\",\r\n",
      "                \"sha256:78ca54b2f9daffa5f323f34cdf21e1d9779a54073f0018a3094ab907938331a2\",\r\n",
      "                \"sha256:82e871307a6331b5f09efda3c22e03c095d957f04bf6bc1804f30048d0e5e7af\",\r\n",
      "                \"sha256:8ab9163ca8aeb7fd32fe93866490654d2f7dda4e61bc6297bf72ce07fdc02f67\",\r\n",
      "                \"sha256:9696aa2e35cc41e398a6d42d147cf326f8f9d81befcb399bc1ed7ffea339b64e\",\r\n",
      "                \"sha256:97e5d6a9f0702c2863aaabf19f0d1b6c2628fbe476438ce0b5ce06e83085064c\",\r\n",
      "                \"sha256:9f42284ebf91bdf32fafac29d29d4c07e5e9d1af862ea73686581773ef9e73a7\",\r\n",
      "                \"sha256:a03fb25610ef560a6201ff06df4f8105292ba56e7cdd196ea350d123fc32e24e\",\r\n",
      "                \"sha256:a5b411040beead47a228bde3b2241100454a6abde9df139ed087bd73fc0a4908\",\r\n",
      "                \"sha256:af22f3d8e228d84d1c0c44c1fbdeb80f97a15a0abe4f080960393a00db733b66\",\r\n",
      "                \"sha256:afd5ced4e5a96dac6725daeb5242a35494243f2239244fad10a90ce58b071d24\",\r\n",
      "                \"sha256:b9d45d1dbb9de84894cc50efece5b09939752a2d75aab3a8b0cef6f3a35ecd6b\",\r\n",
      "                \"sha256:bb894accfd16b867d8643fc2ba6c8617c78ba2828051e9a69511644ce86ce83e\",\r\n",
      "                \"sha256:c8c6c72d4a9f831f328efb1312642a1cafafaa88981d9ab76368d50d07d93cbe\",\r\n",
      "                \"sha256:cd7837b2b734ca72959a1caf3309457a318c934abef7a43a14bb984e574bbb9a\",\r\n",
      "                \"sha256:cdd9ec98f0063d93baeb01aad472a1a0840dee302842a2746a7a8e92968f9575\",\r\n",
      "                \"sha256:d1cfc92db6af1fd37a7bb58e55c8383b4aa1ba23d012bdbba26b4bcca45ac297\",\r\n",
      "                \"sha256:d1d2c6b7dd618c41e202c59c1413ef9b2c8e8a15f5039e344af64195459e3104\",\r\n",
      "                \"sha256:d2984cb6caaf05294b8466966627e80bf6c7afd273279077679cb010acb0e5ab\",\r\n",
      "                \"sha256:d58e8c51a7cf43090d124d5073bc29ab2755822181fcad978b12e144e5e5a4b3\",\r\n",
      "                \"sha256:d78f269e0c4fd365fc2992c00353e4530d274ba68f15e968d8bc3c69ce5f5244\",\r\n",
      "                \"sha256:dcfaf015b79d1f9f9c9fd0731a907407dc3e45769262d657d754c3a028586124\",\r\n",
      "                \"sha256:e44ccb93f30c75dfc0c3aa3ce38f33486a75ec9abadabd4e59f114994a9c4617\",\r\n",
      "                \"sha256:e509cbc488c735b43b5ffea175235cec24bbc57b227ef1acc691725beb230d1c\"\r\n",
      "            ],\r\n",
      "            \"markers\": \"python_version < '3.13' and python_version >= '3.9'\",\r\n",
      "            \"version\": \"==1.26.1\"\r\n",
      "        },\r\n",
      "        \"scikit-learn\": {\r\n",
      "            \"hashes\": [\r\n",
      "                \"sha256:0c275a06c5190c5ce00af0acbb61c06374087949f643ef32d355ece12c4db043\",\r\n",
      "                \"sha256:0ce9233cdf0cdcf0858a5849d306490bf6de71fa7603a3835124e386e62f2311\",\r\n",
      "                \"sha256:0e1aa8f206d0de814b81b41d60c1ce31f7f2c7354597af38fae46d9c47c45122\",\r\n",
      "                \"sha256:14e8775eba072ab10866a7e0596bc9906873e22c4c370a651223372eb62de180\",\r\n",
      "                \"sha256:1a231cced3ee3fa04756b4a7ab532dc9417acd581a330adff5f2c01ac2831fcf\",\r\n",
      "                \"sha256:1ec668ce003a5b3d12d020d2cde0abd64b262ac5f098b5c84cf9657deb9996a8\",\r\n",
      "                \"sha256:3153612ff8d36fa4e35ef8b897167119213698ea78f3fd130b4068e6f8d2da5a\",\r\n",
      "                \"sha256:4d379f2b34096105a96bd857b88601dffe7389bd55750f6f29aaa37bc6272eb5\",\r\n",
      "                \"sha256:52b77cc08bd555969ec5150788ed50276f5ef83abb72e6f469c5b91a0009bbca\",\r\n",
      "                \"sha256:58b0c2490eff8355dc26e884487bf8edaccf2ba48d09b194fb2f3a026dd64f9d\",\r\n",
      "                \"sha256:66f7bb1fec37d65f4ef85953e1df5d3c98a0f0141d394dcdaead5a6de9170347\",\r\n",
      "                \"sha256:6bb9490fdb8e7e00f1354621689187bef3cab289c9b869688f805bf724434755\",\r\n",
      "                \"sha256:7d8dee8c1f40eeba49a85fe378bdf70a07bb64aba1a08fda1e0f48d27edfc3e6\",\r\n",
      "                \"sha256:8454d57a22d856f1fbf3091bd86f9ebd4bff89088819886dc0c72f47a6c30652\",\r\n",
      "                \"sha256:845f81c7ceb4ea6bac64ab1c9f2ce8bef0a84d0f21f3bece2126adcc213dfecd\",\r\n",
      "                \"sha256:8d993fb70a1d78c9798b8f2f28705bfbfcd546b661f9e2e67aa85f81052b9c53\",\r\n",
      "                \"sha256:9147a3a4df4d401e618713880be023e36109c85d8569b3bf5377e6cd3fecdeac\",\r\n",
      "                \"sha256:a15d964d9eb181c79c190d3dbc2fff7338786bf017e9039571418a1d53dab236\",\r\n",
      "                \"sha256:a683394bc3f80b7c312c27f9b14ebea7766b1f0a34faf1a2e9158d80e860ec26\",\r\n",
      "                \"sha256:a7135a03af71138669f19bc96e7d0cc8081aed4b3565cc3b131135d65fc642ba\",\r\n",
      "                \"sha256:c413c2c850241998168bbb3bd1bb59ff03b1195a53864f0b80ab092071af6028\",\r\n",
      "                \"sha256:c6448c37741145b241eeac617028ba6ec2119e1339b1385c9720dae31367f2be\",\r\n",
      "                \"sha256:ccbbedae99325628c1d1cbe3916b7ef58a1ce949672d8d39c8b190e10219fd32\",\r\n",
      "                \"sha256:d2cd3634695ad192bf71645702b3df498bd1e246fc2d529effdb45a06ab028b4\",\r\n",
      "                \"sha256:ef540e09873e31569bc8b02c8a9f745ee04d8e1263255a15c9969f6f5caa627f\",\r\n",
      "                \"sha256:f66eddfda9d45dd6cadcd706b65669ce1df84b8549875691b1f403730bdef217\"\r\n",
      "            ],\r\n",
      "            \"index\": \"pypi\",\r\n",
      "            \"markers\": \"python_version >= '3.8'\",\r\n",
      "            \"version\": \"==1.3.1\"\r\n",
      "        },\r\n",
      "        \"scipy\": {\r\n",
      "            \"hashes\": [\r\n",
      "                \"sha256:00f325434b6424952fbb636506f0567898dca7b0f7654d48f1c382ea338ce9a3\",\r\n",
      "                \"sha256:033c3fd95d55012dd1148b201b72ae854d5086d25e7c316ec9850de4fe776929\",\r\n",
      "                \"sha256:0d3a136ae1ff0883fffbb1b05b0b2fea251cb1046a5077d0b435a1839b3e52b7\",\r\n",
      "                \"sha256:15f237e890c24aef6891c7d008f9ff7e758c6ef39a2b5df264650eb7900403c0\",\r\n",
      "                \"sha256:370f569c57e1d888304052c18e58f4a927338eafdaef78613c685ca2ea0d1fa0\",\r\n",
      "                \"sha256:3e1a8a4657673bfae1e05e1e1d6e94b0cabe5ed0c7c144c8aa7b7dbb774ce5c1\",\r\n",
      "                \"sha256:4b4bb134c7aa457e26cc6ea482b016fef45db71417d55cc6d8f43d799cdf9ef2\",\r\n",
      "                \"sha256:5305792c7110e32ff155aed0df46aa60a60fc6e52cd4ee02cdeb67eaccd5356e\",\r\n",
      "                \"sha256:5664e364f90be8219283eeb844323ff8cd79d7acbd64e15eb9c46b9bc7f6a42a\",\r\n",
      "                \"sha256:5f290cf561a4b4edfe8d1001ee4be6da60c1c4ea712985b58bf6bc62badee221\",\r\n",
      "                \"sha256:74e89dc5e00201e71dd94f5f382ab1c6a9f3ff806c7d24e4e90928bb1aafb280\",\r\n",
      "                \"sha256:7abda0e62ef00cde826d441485e2e32fe737bdddee3324e35c0e01dee65e2a88\",\r\n",
      "                \"sha256:90271dbde4be191522b3903fc97334e3956d7cfb9cce3f0718d0ab4fd7d8bfd6\",\r\n",
      "                \"sha256:91770cb3b1e81ae19463b3c235bf1e0e330767dca9eb4cd73ba3ded6c4151e4d\",\r\n",
      "                \"sha256:925c6f09d0053b1c0f90b2d92d03b261e889b20d1c9b08a3a51f61afc5f58165\",\r\n",
      "                \"sha256:9885e3e4f13b2bd44aaf2a1a6390a11add9f48d5295f7a592393ceb8991577a3\",\r\n",
      "                \"sha256:9ea7f579182d83d00fed0e5c11a4aa5ffe01460444219dedc448a36adf0c3917\",\r\n",
      "                \"sha256:a63d1ec9cadecce838467ce0631c17c15c7197ae61e49429434ba01d618caa83\",\r\n",
      "                \"sha256:bae66a2d7d5768eaa33008fa5a974389f167183c87bf39160d3fefe6664f8ddc\",\r\n",
      "                \"sha256:bba4d955f54edd61899776bad459bf7326e14b9fa1c552181f0479cc60a568cd\",\r\n",
      "                \"sha256:c77da50c9a91e23beb63c2a711ef9e9ca9a2060442757dffee34ea41847d8156\",\r\n",
      "                \"sha256:d2f6dee6cbb0e263b8142ed587bc93e3ed5e777f1f75448d24fb923d9fd4dce6\",\r\n",
      "                \"sha256:dfcc1552add7cb7c13fb70efcb2389d0624d571aaf2c80b04117e2755a0c5d15\",\r\n",
      "                \"sha256:e04aa19acc324a1a076abb4035dabe9b64badb19f76ad9c798bde39d41025cdc\",\r\n",
      "                \"sha256:e1f97cd89c0fe1a0685f8f89d85fa305deb3067d0668151571ba50913e445820\"\r\n",
      "            ],\r\n",
      "            \"markers\": \"python_version < '3.13' and python_version >= '3.9'\",\r\n",
      "            \"version\": \"==1.11.3\"\r\n",
      "        },\r\n",
      "        \"threadpoolctl\": {\r\n",
      "            \"hashes\": [\r\n",
      "                \"sha256:2b7818516e423bdaebb97c723f86a7c6b0a83d3f3b0970328d66f4d9104dc032\",\r\n",
      "                \"sha256:c96a0ba3bdddeaca37dc4cc7344aafad41cdb8c313f74fdfe387a867bba93355\"\r\n",
      "            ],\r\n",
      "            \"markers\": \"python_version >= '3.8'\",\r\n",
      "            \"version\": \"==3.2.0\"\r\n",
      "        }\r\n",
      "    },\r\n",
      "    \"develop\": {}\r\n",
      "}\r\n"
     ]
    }
   ],
   "source": [
    "! cat Pipfile.lock"
   ],
   "metadata": {
    "collapsed": false,
    "ExecuteTime": {
     "end_time": "2023-10-17T00:47:31.687857Z",
     "start_time": "2023-10-17T00:47:31.561958Z"
    }
   }
  },
  {
   "cell_type": "markdown",
   "id": "9ae49005",
   "metadata": {},
   "source": [
    ">**Answer Q2:**  \"sha256\": \"0e0fec5cb0e411bbb2c1c4f81b061609272a25d0c1f780d06dd30aff281bed02\"\n"
   ]
  },
  {
   "cell_type": "markdown",
   "id": "8a065e37",
   "metadata": {},
   "source": [
    "__Question 3__\n",
    "Let's use these models!\n",
    "\n",
    "Write a script for loading these models with pickle\n",
    "Score this client:\n",
    "{\"job\": \"retired\", \"duration\": 445, \"poutcome\": \"success\"}\n",
    "What's the probability that this client will get a credit?\n",
    "\n",
    "* 0.162\n",
    "* 0.392\n",
    "* 0.652\n",
    "* 0.902"
   ]
  },
  {
   "cell_type": "code",
   "execution_count": 46,
   "id": "2191ebd8",
   "metadata": {
    "ExecuteTime": {
     "end_time": "2023-10-16T23:31:14.920317Z",
     "start_time": "2023-10-16T23:31:14.917485Z"
    }
   },
   "outputs": [],
   "source": [
    "import pickle\n",
    "with open('model1.bin', 'rb') as f_model:\n",
    "    model = pickle.load(f_model)\n",
    "with open('dv.bin', 'rb') as f_bin:\n",
    "    dict_vectorizer = pickle.load(f_bin)"
   ]
  },
  {
   "cell_type": "code",
   "execution_count": 47,
   "id": "d54d6daa",
   "metadata": {
    "ExecuteTime": {
     "end_time": "2023-10-16T23:31:18.632081Z",
     "start_time": "2023-10-16T23:31:18.628186Z"
    }
   },
   "outputs": [
    {
     "data": {
      "text/plain": [
       "(LogisticRegression(), DictVectorizer(sparse=False))"
      ]
     },
     "execution_count": 47,
     "metadata": {},
     "output_type": "execute_result"
    }
   ],
   "source": [
    "model, dict_vectorizer"
   ]
  },
  {
   "cell_type": "code",
   "execution_count": 48,
   "id": "ad4d45ef",
   "metadata": {
    "ExecuteTime": {
     "end_time": "2023-10-16T23:31:21.483097Z",
     "start_time": "2023-10-16T23:31:21.480705Z"
    }
   },
   "outputs": [
    {
     "data": {
      "text/plain": [
       "0.9019309332297606"
      ]
     },
     "execution_count": 48,
     "metadata": {},
     "output_type": "execute_result"
    }
   ],
   "source": [
    "client = {\"job\": \"retired\", \"duration\": 445, \"poutcome\": \"success\"}\n",
    "X = dict_vectorizer.transform(client)\n",
    "model.predict_proba(X)[0, 1]"
   ]
  },
  {
   "cell_type": "markdown",
   "id": "7caf4883",
   "metadata": {},
   "source": [
    "__Question 4__\n",
    "Now let's serve this model as a web service\n",
    "\n",
    "Install Flask and gunicorn (or waitress, if you're on Windows)\n",
    "Write Flask code for serving the model\n",
    "Now score this client using requests:\n",
    "url = \"YOUR_URL\"\n",
    "client = {\"job\": \"unknown\", \"duration\": 270, \"poutcome\": \"failure\"}\n",
    "requests.post(url, json=client).json()\n",
    "What's the probability that this client will get a credit?\n",
    "\n",
    "* 0.140\n",
    "* 0.440\n",
    "* 0.645\n",
    "* 0.845"
   ]
  },
  {
   "cell_type": "code",
   "execution_count": 49,
   "id": "7fa8b2d6",
   "metadata": {
    "ExecuteTime": {
     "end_time": "2023-10-16T23:31:27.769083Z",
     "start_time": "2023-10-16T23:31:27.069250Z"
    }
   },
   "outputs": [
    {
     "name": "stdout",
     "output_type": "stream",
     "text": [
      "\u001B[1;32mInstalling flask\u001B[0m\u001B[1;33m...\u001B[0m\r\n",
      "\u001B[?25lResolving flask\u001B[33m...\u001B[0m\r\n",
      "\u001B[2K✔ Installation Succeeded\r\n",
      "\u001B[2K\u001B[32m⠋\u001B[0m Installing flask...\r\n",
      "\u001B[1A\u001B[2K\u001B[1;32mInstalling gunicorn\u001B[0m\u001B[1;33m...\u001B[0m\r\n",
      "\u001B[?25lResolving gunicorn\u001B[33m...\u001B[0m\r\n",
      "\u001B[2K✔ Installation Succeeded\r\n",
      "\u001B[2K\u001B[32m⠋\u001B[0m Installing gunicorn...\r\n",
      "\u001B[1A\u001B[2K\u001B[1mInstalling dependencies from Pipfile.lock \u001B[0m\u001B[1m(\u001B[0m\u001B[1m4f2986\u001B[0m\u001B[1m)\u001B[0m\u001B[1;33m...\u001B[0m\r\n",
      "To activate this project's virtualenv, run \u001B[33mpipenv shell\u001B[0m.\r\n",
      "Alternatively, run a command inside the virtualenv with \u001B[33mpipenv run\u001B[0m.\r\n"
     ]
    }
   ],
   "source": [
    "! pipenv install flask gunicorn"
   ]
  },
  {
   "cell_type": "markdown",
   "id": "5498c61a",
   "metadata": {},
   "source": [
    "Be sure that the wevservice is running:\n",
    "\n",
    "uvicorn server:app --reload"
   ]
  },
  {
   "cell_type": "code",
   "execution_count": 50,
   "id": "39ce8ed9",
   "metadata": {
    "ExecuteTime": {
     "end_time": "2023-10-16T23:31:33.521223Z",
     "start_time": "2023-10-16T23:31:33.492576Z"
    }
   },
   "outputs": [
    {
     "name": "stdout",
     "output_type": "stream",
     "text": [
      "{'prediction': 0.13968947052356817}\n"
     ]
    }
   ],
   "source": [
    "import requests\n",
    "\n",
    "url = \"http://127.0.0.1:8000/predict\"\n",
    "client = {\"job\": \"unknown\", \"duration\": 270, \"poutcome\": \"failure\"}\n",
    "response = requests.post(url, json=client)\n",
    "result = response.json()\n",
    "print(result)\n"
   ]
  },
  {
   "cell_type": "markdown",
   "id": "26919d00",
   "metadata": {},
   "source": [
    ">**Answer Q4:** 0.140"
   ]
  },
  {
   "cell_type": "markdown",
   "id": "0fc319a2",
   "metadata": {},
   "source": [
    "__Docker__\n",
    "Install Docker. We will use it for the next two questions.\n",
    "\n",
    "For these questions, we prepared a base image: svizor/zoomcamp-model:3.10.12-slim. You'll need to use it (see Question 5 for an example).\n",
    "\n",
    "This image is based on python:3.10.12-slim and has a logistic regression model (a different one) as well a dictionary vectorizer inside.\n",
    "\n",
    "This is how the Dockerfile for this image looks like:\n",
    "\n",
    "FROM python:3.10.12-slim\n",
    "WORKDIR /app\n",
    "COPY [\"model2.bin\", \"dv.bin\", \"./\"]\n",
    "We already built it and then pushed it to svizor/zoomcamp-model:3.10.12-slim.\n",
    "\n",
    "Note: You don't need to build this docker image, it's just for your reference."
   ]
  },
  {
   "cell_type": "markdown",
   "id": "72e0ff40",
   "metadata": {},
   "source": [
    "__Question 5__\n",
    "Download the base image svizor/zoomcamp-model:3.10.12-slim. You can easily make it by using docker pull command.\n",
    "\n",
    "So what's the size of this base image?\n",
    "\n",
    "* 47 MB\n",
    "* 147 MB\n",
    "* 374 MB\n",
    "* 574 MB\n",
    "\n",
    "You can get this information when running docker images - it'll be in the \"SIZE\" column."
   ]
  },
  {
   "cell_type": "code",
   "execution_count": 51,
   "id": "28cc6a22",
   "metadata": {
    "ExecuteTime": {
     "end_time": "2023-10-16T23:32:32.652522Z",
     "start_time": "2023-10-16T23:32:30.507709Z"
    }
   },
   "outputs": [
    {
     "name": "stdout",
     "output_type": "stream",
     "text": [
      "3.10.12-slim: Pulling from svizor/zoomcamp-model\r\n",
      "Digest: sha256:e8441100b9d8da56344f50c673eb2daded3c61ce9565e45c3592c02f34fb3149\r\n",
      "Status: Image is up to date for svizor/zoomcamp-model:3.10.12-slim\r\n",
      "docker.io/svizor/zoomcamp-model:3.10.12-slim\r\n",
      "\u001B[1m\r\n",
      "What's Next?\r\n",
      "\u001B[0m  View a summary of image vulnerabilities and recommendations → \u001B[36mdocker scout quickview svizor/zoomcamp-model:3.10.12-slim\u001B[0m\r\n"
     ]
    }
   ],
   "source": [
    "! docker pull svizor/zoomcamp-model:3.10.12-slim"
   ]
  },
  {
   "cell_type": "code",
   "execution_count": 60,
   "id": "b793f63f",
   "metadata": {
    "ExecuteTime": {
     "end_time": "2023-10-16T23:41:32.463842Z",
     "start_time": "2023-10-16T23:41:32.220930Z"
    }
   },
   "outputs": [
    {
     "name": "stdout",
     "output_type": "stream",
     "text": [
      "\u001B[0;39m147133320\u001B[0m\r\n"
     ]
    }
   ],
   "source": [
    "! docker image inspect svizor/zoomcamp-model:3.10.12-slim | jq '.[0].Size'"
   ]
  },
  {
   "cell_type": "markdown",
   "id": "9af5a28b",
   "metadata": {},
   "source": []
  },
  {
   "cell_type": "markdown",
   "id": "fb8f79a1",
   "metadata": {},
   "source": [
    "**Answer Q5:** 147 MB"
   ]
  },
  {
   "cell_type": "markdown",
   "id": "fe5e2f6b",
   "metadata": {},
   "source": [
    "__Dockerfile__\n",
    "Now create your own Dockerfile based on the image we prepared.\n",
    "\n",
    "It should start like that:\n",
    "\n",
    "FROM svizor/zoomcamp-model:3.10.12-slim\n",
    "Now complete it:\n",
    "\n",
    "Install all the dependencies form the Pipenv file\n",
    "Copy your Flask script\n",
    "Run it with Gunicorn\n",
    "After that, you can build your docker image."
   ]
  },
  {
   "cell_type": "markdown",
   "id": "29758753",
   "metadata": {},
   "source": [
    "__Question 6__\n",
    "Let's run your docker container!\n",
    "\n",
    "After running it, score this client once again:\n",
    "\n",
    "url = \"YOUR_URL\"\n",
    "client = {\"job\": \"retired\", \"duration\": 445, \"poutcome\": \"success\"}\n",
    "requests.post(url, json=client).json()\n",
    "What's the probability that this client will get a credit now?\n",
    "\n",
    "* 0.168\n",
    "* 0.530\n",
    "* 0.730\n",
    "* 0.968"
   ]
  },
  {
   "cell_type": "markdown",
   "id": "592baa1b",
   "metadata": {
    "ExecuteTime": {
     "end_time": "2023-10-16T23:51:49.335141Z",
     "start_time": "2023-10-16T23:49:55.919121Z"
    }
   },
   "source": [
    "! docker build -t my-fastapi-app ."
   ]
  },
  {
   "cell_type": "code",
   "execution_count": 65,
   "id": "932dcbd5",
   "metadata": {
    "ExecuteTime": {
     "end_time": "2023-10-16T23:53:01.208340Z",
     "start_time": "2023-10-16T23:53:00.915129Z"
    }
   },
   "outputs": [
    {
     "name": "stdout",
     "output_type": "stream",
     "text": [
      "WARNING: The requested image's platform (linux/amd64) does not match the detected host platform (linux/arm64/v8) and no specific platform was requested\r\n",
      "77190ca35eb7b4925e02731bd90fc67000df5b42ef3ccc2e74594962a58804b3\r\n",
      "docker: Error response from daemon: driver failed programming external connectivity on endpoint funny_kowalevski (04b18004c7bce318aee0624be3450e2318eed4528180683a7d55b12fd8806954): Bind for 0.0.0.0:8000 failed: port is already allocated.\r\n"
     ]
    }
   ],
   "source": [
    "! docker run -d -p 8000:8000 my-fastapi-app"
   ]
  },
  {
   "cell_type": "code",
   "execution_count": 69,
   "id": "7a5b6679",
   "metadata": {
    "ExecuteTime": {
     "end_time": "2023-10-16T23:58:10.264717Z",
     "start_time": "2023-10-16T23:58:10.198881Z"
    }
   },
   "outputs": [
    {
     "name": "stdout",
     "output_type": "stream",
     "text": [
      "{'prediction': 0.726936946355423}\n"
     ]
    }
   ],
   "source": [
    "url = \"http://localhost:8000/predict\"\n",
    "client = {\"job\": \"retired\", \"duration\": 445, \"poutcome\": \"success\"}\n",
    "answer = requests.post(url, json=client).json()\n",
    "print(answer)"
   ]
  },
  {
   "cell_type": "markdown",
   "id": "e42f8693",
   "metadata": {},
   "source": [
    ">**Answer Q6:** 0.730"
   ]
  }
 ],
 "metadata": {
  "kernelspec": {
   "display_name": "Python 3 (ipykernel)",
   "language": "python",
   "name": "python3"
  },
  "language_info": {
   "codemirror_mode": {
    "name": "ipython",
    "version": 3
   },
   "file_extension": ".py",
   "mimetype": "text/x-python",
   "name": "python",
   "nbconvert_exporter": "python",
   "pygments_lexer": "ipython3",
   "version": "3.10.9"
  }
 },
 "nbformat": 4,
 "nbformat_minor": 5
}

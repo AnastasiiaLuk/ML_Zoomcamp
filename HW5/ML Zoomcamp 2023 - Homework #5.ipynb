{
 "cells": [
  {
   "cell_type": "markdown",
   "id": "7387d94b",
   "metadata": {},
   "source": [
    "__<h2><center>ML Zoomcamp 2023 - Homework #5 </h2> </center>__"
   ]
  },
  {
   "cell_type": "markdown",
   "id": "ad096c23",
   "metadata": {},
   "source": [
    "__Question 1__\n",
    "Install Pipenv. \n",
    "What's the version of pipenv you installed?\n",
    "Use --version to find out"
   ]
  },
  {
   "cell_type": "markdown",
   "id": "b96a10aa",
   "metadata": {},
   "source": [
    ">**Answer Q1:**  version 2023.10.3"
   ]
  },
  {
   "cell_type": "markdown",
   "id": "8acd5f2c",
   "metadata": {},
   "source": [
    "__Question 2__\n",
    "Use Pipenv to install Scikit-Learn version 1.3.1\n",
    "What's the first hash for scikit-learn you get in Pipfile.lock?\n",
    "Note: you should create an empty folder for homework and do it there."
   ]
  },
  {
   "cell_type": "markdown",
   "id": "f7d6fcf9",
   "metadata": {},
   "source": [
    "__Models__\n",
    "We've prepared a dictionary vectorizer and a model.\n",
    "\n",
    "They were trained (roughly) using this code:\n",
    "\n",
    "features = ['job','duration', 'poutcome']\n",
    "dicts = df[features].to_dict(orient='records')\n",
    "\n",
    "dv = DictVectorizer(sparse=False)\n",
    "X = dv.fit_transform(dicts)\n",
    "\n",
    "model = LogisticRegression().fit(X, y)\n",
    "Note: You don't need to train the model. This code is just for your reference.\n",
    "\n",
    "And then saved with Pickle. Download them:\n",
    "\n",
    "DictVectorizer\n",
    "LogisticRegression\n",
    "With wget:\n",
    "\n",
    "PREFIX=https://raw.githubusercontent.com/DataTalksClub/machine-learning-zoomcamp/master/cohorts/2023/05-deployment/homework\n",
    "wget $PREFIX/model1.bin\n",
    "wget $PREFIX/dv.bin"
   ]
  },
  {
   "cell_type": "markdown",
   "id": "d3998650",
   "metadata": {
    "ExecuteTime": {
     "end_time": "2023-10-16T23:30:22.689150Z",
     "start_time": "2023-10-16T23:30:21.958974Z"
    }
   },
   "source": [
    "! pipenv install scikit-learn==1.3.1"
   ]
  },
  {
   "cell_type": "markdown",
   "id": "c0b3ad17",
   "metadata": {
    "ExecuteTime": {
     "end_time": "2023-10-16T23:30:26.012687Z",
     "start_time": "2023-10-16T23:30:25.883335Z"
    }
   },
   "source": [
    "! cat Pipfile.lock"
   ]
  },
  {
   "cell_type": "markdown",
   "id": "9ae49005",
   "metadata": {},
   "source": [
    ">**Answer Q2:**  \"sha256\": \"c34ce5877e8425f4fa78ed42bd54cc9d5c95ce77bcc811c00496d68c804f2986\"\n"
   ]
  },
  {
   "cell_type": "markdown",
   "id": "8a065e37",
   "metadata": {},
   "source": [
    "__Question 3__\n",
    "Let's use these models!\n",
    "\n",
    "Write a script for loading these models with pickle\n",
    "Score this client:\n",
    "{\"job\": \"retired\", \"duration\": 445, \"poutcome\": \"success\"}\n",
    "What's the probability that this client will get a credit?\n",
    "\n",
    "* 0.162\n",
    "* 0.392\n",
    "* 0.652\n",
    "* 0.902"
   ]
  },
  {
   "cell_type": "code",
   "execution_count": 46,
   "id": "2191ebd8",
   "metadata": {
    "ExecuteTime": {
     "end_time": "2023-10-16T23:31:14.920317Z",
     "start_time": "2023-10-16T23:31:14.917485Z"
    }
   },
   "outputs": [],
   "source": [
    "import pickle\n",
    "with open('model1.bin', 'rb') as f_model:\n",
    "    model = pickle.load(f_model)\n",
    "with open('dv.bin', 'rb') as f_bin:\n",
    "    dict_vectorizer = pickle.load(f_bin)"
   ]
  },
  {
   "cell_type": "code",
   "execution_count": 47,
   "id": "d54d6daa",
   "metadata": {
    "ExecuteTime": {
     "end_time": "2023-10-16T23:31:18.632081Z",
     "start_time": "2023-10-16T23:31:18.628186Z"
    }
   },
   "outputs": [
    {
     "data": {
      "text/plain": [
       "(LogisticRegression(), DictVectorizer(sparse=False))"
      ]
     },
     "execution_count": 47,
     "metadata": {},
     "output_type": "execute_result"
    }
   ],
   "source": [
    "model, dict_vectorizer"
   ]
  },
  {
   "cell_type": "code",
   "execution_count": 48,
   "id": "ad4d45ef",
   "metadata": {
    "ExecuteTime": {
     "end_time": "2023-10-16T23:31:21.483097Z",
     "start_time": "2023-10-16T23:31:21.480705Z"
    }
   },
   "outputs": [
    {
     "data": {
      "text/plain": [
       "0.9019309332297606"
      ]
     },
     "execution_count": 48,
     "metadata": {},
     "output_type": "execute_result"
    }
   ],
   "source": [
    "client = {\"job\": \"retired\", \"duration\": 445, \"poutcome\": \"success\"}\n",
    "X = dict_vectorizer.transform(client)\n",
    "model.predict_proba(X)[0, 1]"
   ]
  },
  {
   "cell_type": "markdown",
   "id": "7caf4883",
   "metadata": {},
   "source": [
    "__Question 4__\n",
    "Now let's serve this model as a web service\n",
    "\n",
    "Install Flask and gunicorn (or waitress, if you're on Windows)\n",
    "Write Flask code for serving the model\n",
    "Now score this client using requests:\n",
    "url = \"YOUR_URL\"\n",
    "client = {\"job\": \"unknown\", \"duration\": 270, \"poutcome\": \"failure\"}\n",
    "requests.post(url, json=client).json()\n",
    "What's the probability that this client will get a credit?\n",
    "\n",
    "* 0.140\n",
    "* 0.440\n",
    "* 0.645\n",
    "* 0.845"
   ]
  },
  {
   "cell_type": "code",
   "execution_count": 49,
   "id": "7fa8b2d6",
   "metadata": {
    "ExecuteTime": {
     "end_time": "2023-10-16T23:31:27.769083Z",
     "start_time": "2023-10-16T23:31:27.069250Z"
    }
   },
   "outputs": [
    {
     "name": "stdout",
     "output_type": "stream",
     "text": [
      "\u001B[1;32mInstalling flask\u001B[0m\u001B[1;33m...\u001B[0m\r\n",
      "\u001B[?25lResolving flask\u001B[33m...\u001B[0m\r\n",
      "\u001B[2K✔ Installation Succeeded\r\n",
      "\u001B[2K\u001B[32m⠋\u001B[0m Installing flask...\r\n",
      "\u001B[1A\u001B[2K\u001B[1;32mInstalling gunicorn\u001B[0m\u001B[1;33m...\u001B[0m\r\n",
      "\u001B[?25lResolving gunicorn\u001B[33m...\u001B[0m\r\n",
      "\u001B[2K✔ Installation Succeeded\r\n",
      "\u001B[2K\u001B[32m⠋\u001B[0m Installing gunicorn...\r\n",
      "\u001B[1A\u001B[2K\u001B[1mInstalling dependencies from Pipfile.lock \u001B[0m\u001B[1m(\u001B[0m\u001B[1m4f2986\u001B[0m\u001B[1m)\u001B[0m\u001B[1;33m...\u001B[0m\r\n",
      "To activate this project's virtualenv, run \u001B[33mpipenv shell\u001B[0m.\r\n",
      "Alternatively, run a command inside the virtualenv with \u001B[33mpipenv run\u001B[0m.\r\n"
     ]
    }
   ],
   "source": [
    "! pipenv install flask gunicorn"
   ]
  },
  {
   "cell_type": "markdown",
   "id": "5498c61a",
   "metadata": {},
   "source": [
    "Be sure that the wevservice is running:\n",
    "\n",
    "uvicorn server:app --reload"
   ]
  },
  {
   "cell_type": "code",
   "execution_count": 50,
   "id": "39ce8ed9",
   "metadata": {
    "ExecuteTime": {
     "end_time": "2023-10-16T23:31:33.521223Z",
     "start_time": "2023-10-16T23:31:33.492576Z"
    }
   },
   "outputs": [
    {
     "name": "stdout",
     "output_type": "stream",
     "text": [
      "{'prediction': 0.13968947052356817}\n"
     ]
    }
   ],
   "source": [
    "import requests\n",
    "\n",
    "url = \"http://127.0.0.1:8000/predict\"\n",
    "client = {\"job\": \"unknown\", \"duration\": 270, \"poutcome\": \"failure\"}\n",
    "response = requests.post(url, json=client)\n",
    "result = response.json()\n",
    "print(result)\n"
   ]
  },
  {
   "cell_type": "markdown",
   "id": "26919d00",
   "metadata": {},
   "source": [
    ">**Answer Q4:** 0.140"
   ]
  },
  {
   "cell_type": "markdown",
   "id": "0fc319a2",
   "metadata": {},
   "source": [
    "__Docker__\n",
    "Install Docker. We will use it for the next two questions.\n",
    "\n",
    "For these questions, we prepared a base image: svizor/zoomcamp-model:3.10.12-slim. You'll need to use it (see Question 5 for an example).\n",
    "\n",
    "This image is based on python:3.10.12-slim and has a logistic regression model (a different one) as well a dictionary vectorizer inside.\n",
    "\n",
    "This is how the Dockerfile for this image looks like:\n",
    "\n",
    "FROM python:3.10.12-slim\n",
    "WORKDIR /app\n",
    "COPY [\"model2.bin\", \"dv.bin\", \"./\"]\n",
    "We already built it and then pushed it to svizor/zoomcamp-model:3.10.12-slim.\n",
    "\n",
    "Note: You don't need to build this docker image, it's just for your reference."
   ]
  },
  {
   "cell_type": "markdown",
   "id": "72e0ff40",
   "metadata": {},
   "source": [
    "__Question 5__\n",
    "Download the base image svizor/zoomcamp-model:3.10.12-slim. You can easily make it by using docker pull command.\n",
    "\n",
    "So what's the size of this base image?\n",
    "\n",
    "* 47 MB\n",
    "* 147 MB\n",
    "* 374 MB\n",
    "* 574 MB\n",
    "\n",
    "You can get this information when running docker images - it'll be in the \"SIZE\" column."
   ]
  },
  {
   "cell_type": "code",
   "execution_count": 51,
   "id": "28cc6a22",
   "metadata": {
    "ExecuteTime": {
     "end_time": "2023-10-16T23:32:32.652522Z",
     "start_time": "2023-10-16T23:32:30.507709Z"
    }
   },
   "outputs": [
    {
     "name": "stdout",
     "output_type": "stream",
     "text": [
      "3.10.12-slim: Pulling from svizor/zoomcamp-model\r\n",
      "Digest: sha256:e8441100b9d8da56344f50c673eb2daded3c61ce9565e45c3592c02f34fb3149\r\n",
      "Status: Image is up to date for svizor/zoomcamp-model:3.10.12-slim\r\n",
      "docker.io/svizor/zoomcamp-model:3.10.12-slim\r\n",
      "\u001B[1m\r\n",
      "What's Next?\r\n",
      "\u001B[0m  View a summary of image vulnerabilities and recommendations → \u001B[36mdocker scout quickview svizor/zoomcamp-model:3.10.12-slim\u001B[0m\r\n"
     ]
    }
   ],
   "source": [
    "! docker pull svizor/zoomcamp-model:3.10.12-slim"
   ]
  },
  {
   "cell_type": "code",
   "execution_count": 60,
   "id": "b793f63f",
   "metadata": {
    "ExecuteTime": {
     "end_time": "2023-10-16T23:41:32.463842Z",
     "start_time": "2023-10-16T23:41:32.220930Z"
    }
   },
   "outputs": [
    {
     "name": "stdout",
     "output_type": "stream",
     "text": [
      "\u001B[0;39m147133320\u001B[0m\r\n"
     ]
    }
   ],
   "source": [
    "! docker image inspect svizor/zoomcamp-model:3.10.12-slim | jq '.[0].Size'"
   ]
  },
  {
   "cell_type": "markdown",
   "id": "9af5a28b",
   "metadata": {},
   "source": []
  },
  {
   "cell_type": "markdown",
   "id": "fb8f79a1",
   "metadata": {},
   "source": [
    "**Answer Q5:** 147 MB"
   ]
  },
  {
   "cell_type": "markdown",
   "id": "fe5e2f6b",
   "metadata": {},
   "source": [
    "__Dockerfile__\n",
    "Now create your own Dockerfile based on the image we prepared.\n",
    "\n",
    "It should start like that:\n",
    "\n",
    "FROM svizor/zoomcamp-model:3.10.12-slim\n",
    "Now complete it:\n",
    "\n",
    "Install all the dependencies form the Pipenv file\n",
    "Copy your Flask script\n",
    "Run it with Gunicorn\n",
    "After that, you can build your docker image."
   ]
  },
  {
   "cell_type": "markdown",
   "id": "29758753",
   "metadata": {},
   "source": [
    "__Question 6__\n",
    "Let's run your docker container!\n",
    "\n",
    "After running it, score this client once again:\n",
    "\n",
    "url = \"YOUR_URL\"\n",
    "client = {\"job\": \"retired\", \"duration\": 445, \"poutcome\": \"success\"}\n",
    "requests.post(url, json=client).json()\n",
    "What's the probability that this client will get a credit now?\n",
    "\n",
    "* 0.168\n",
    "* 0.530\n",
    "* 0.730\n",
    "* 0.968"
   ]
  },
  {
   "cell_type": "markdown",
   "id": "592baa1b",
   "metadata": {
    "ExecuteTime": {
     "end_time": "2023-10-16T23:51:49.335141Z",
     "start_time": "2023-10-16T23:49:55.919121Z"
    }
   },
   "source": [
    "! docker build -t my-fastapi-app ."
   ]
  },
  {
   "cell_type": "code",
   "execution_count": 65,
   "id": "932dcbd5",
   "metadata": {
    "ExecuteTime": {
     "end_time": "2023-10-16T23:53:01.208340Z",
     "start_time": "2023-10-16T23:53:00.915129Z"
    }
   },
   "outputs": [
    {
     "name": "stdout",
     "output_type": "stream",
     "text": [
      "WARNING: The requested image's platform (linux/amd64) does not match the detected host platform (linux/arm64/v8) and no specific platform was requested\r\n",
      "77190ca35eb7b4925e02731bd90fc67000df5b42ef3ccc2e74594962a58804b3\r\n",
      "docker: Error response from daemon: driver failed programming external connectivity on endpoint funny_kowalevski (04b18004c7bce318aee0624be3450e2318eed4528180683a7d55b12fd8806954): Bind for 0.0.0.0:8000 failed: port is already allocated.\r\n"
     ]
    }
   ],
   "source": [
    "! docker run -d -p 8000:8000 my-fastapi-app"
   ]
  },
  {
   "cell_type": "code",
   "execution_count": 69,
   "id": "7a5b6679",
   "metadata": {
    "ExecuteTime": {
     "end_time": "2023-10-16T23:58:10.264717Z",
     "start_time": "2023-10-16T23:58:10.198881Z"
    }
   },
   "outputs": [
    {
     "name": "stdout",
     "output_type": "stream",
     "text": [
      "{'prediction': 0.726936946355423}\n"
     ]
    }
   ],
   "source": [
    "url = \"http://localhost:8000/predict\"\n",
    "client = {\"job\": \"retired\", \"duration\": 445, \"poutcome\": \"success\"}\n",
    "answer = requests.post(url, json=client).json()\n",
    "print(answer)"
   ]
  },
  {
   "cell_type": "markdown",
   "id": "e42f8693",
   "metadata": {},
   "source": [
    ">**Answer Q6:** 0.730"
   ]
  }
 ],
 "metadata": {
  "kernelspec": {
   "display_name": "Python 3 (ipykernel)",
   "language": "python",
   "name": "python3"
  },
  "language_info": {
   "codemirror_mode": {
    "name": "ipython",
    "version": 3
   },
   "file_extension": ".py",
   "mimetype": "text/x-python",
   "name": "python",
   "nbconvert_exporter": "python",
   "pygments_lexer": "ipython3",
   "version": "3.10.9"
  }
 },
 "nbformat": 4,
 "nbformat_minor": 5
}

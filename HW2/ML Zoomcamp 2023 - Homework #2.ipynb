{
 "cells": [
  {
   "cell_type": "markdown",
   "id": "3096173b",
   "metadata": {},
   "source": [
    "__<h1><center>ML Zoomcamp 2023 - Homework #2</center></h1>__"
   ]
  },
  {
   "cell_type": "code",
   "execution_count": 30,
   "id": "7e6b49d6",
   "metadata": {},
   "outputs": [],
   "source": [
    "#@ IMPORTING LIBRARIES AND DEPENDENCIES:\n",
    "import numpy as np\n",
    "import pandas as pd\n",
    "import seaborn as sns\n",
    "import matplotlib.pyplot as plt\n",
    "import warnings\n",
    "from sklearn.linear_model import LinearRegression, Ridge\n",
    "from sklearn.model_selection import train_test_split\n",
    "from sklearn.metrics import mean_squared_error"
   ]
  },
  {
   "cell_type": "code",
   "execution_count": 31,
   "id": "8d94ac6b",
   "metadata": {},
   "outputs": [],
   "source": [
    "#@ IMPORTING DATASET:\n",
    "url = \"https://raw.githubusercontent.com/alexeygrigorev/datasets/master/housing.csv\"\n",
    "select_cols = [\"longitude\", \"latitude\", \"housing_median_age\", \"total_rooms\", \"total_bedrooms\", \"population\", \"households\", \n",
    "               \"median_income\", \"median_house_value\"]\n",
    "data = pd.read_csv(url, usecols=select_cols)"
   ]
  },
  {
   "cell_type": "code",
   "execution_count": 32,
   "id": "b757323a",
   "metadata": {},
   "outputs": [
    {
     "name": "stdout",
     "output_type": "stream",
     "text": [
      "(20640, 9)\n"
     ]
    }
   ],
   "source": [
    "#@ INSPECTING DATAFRAME:\n",
    "print(data.shape)"
   ]
  },
  {
   "cell_type": "code",
   "execution_count": 33,
   "id": "aae2c513",
   "metadata": {},
   "outputs": [
    {
     "data": {
      "text/html": [
       "<div>\n",
       "<style scoped>\n",
       "    .dataframe tbody tr th:only-of-type {\n",
       "        vertical-align: middle;\n",
       "    }\n",
       "\n",
       "    .dataframe tbody tr th {\n",
       "        vertical-align: top;\n",
       "    }\n",
       "\n",
       "    .dataframe thead th {\n",
       "        text-align: right;\n",
       "    }\n",
       "</style>\n",
       "<table border=\"1\" class=\"dataframe\">\n",
       "  <thead>\n",
       "    <tr style=\"text-align: right;\">\n",
       "      <th></th>\n",
       "      <th>longitude</th>\n",
       "      <th>latitude</th>\n",
       "      <th>housing_median_age</th>\n",
       "      <th>total_rooms</th>\n",
       "      <th>total_bedrooms</th>\n",
       "      <th>population</th>\n",
       "      <th>households</th>\n",
       "      <th>median_income</th>\n",
       "      <th>median_house_value</th>\n",
       "    </tr>\n",
       "  </thead>\n",
       "  <tbody>\n",
       "    <tr>\n",
       "      <th>0</th>\n",
       "      <td>-122.23</td>\n",
       "      <td>37.88</td>\n",
       "      <td>41.0</td>\n",
       "      <td>880.0</td>\n",
       "      <td>129.0</td>\n",
       "      <td>322.0</td>\n",
       "      <td>126.0</td>\n",
       "      <td>8.3252</td>\n",
       "      <td>452600.0</td>\n",
       "    </tr>\n",
       "    <tr>\n",
       "      <th>1</th>\n",
       "      <td>-122.22</td>\n",
       "      <td>37.86</td>\n",
       "      <td>21.0</td>\n",
       "      <td>7099.0</td>\n",
       "      <td>1106.0</td>\n",
       "      <td>2401.0</td>\n",
       "      <td>1138.0</td>\n",
       "      <td>8.3014</td>\n",
       "      <td>358500.0</td>\n",
       "    </tr>\n",
       "    <tr>\n",
       "      <th>2</th>\n",
       "      <td>-122.24</td>\n",
       "      <td>37.85</td>\n",
       "      <td>52.0</td>\n",
       "      <td>1467.0</td>\n",
       "      <td>190.0</td>\n",
       "      <td>496.0</td>\n",
       "      <td>177.0</td>\n",
       "      <td>7.2574</td>\n",
       "      <td>352100.0</td>\n",
       "    </tr>\n",
       "    <tr>\n",
       "      <th>3</th>\n",
       "      <td>-122.25</td>\n",
       "      <td>37.85</td>\n",
       "      <td>52.0</td>\n",
       "      <td>1274.0</td>\n",
       "      <td>235.0</td>\n",
       "      <td>558.0</td>\n",
       "      <td>219.0</td>\n",
       "      <td>5.6431</td>\n",
       "      <td>341300.0</td>\n",
       "    </tr>\n",
       "    <tr>\n",
       "      <th>4</th>\n",
       "      <td>-122.25</td>\n",
       "      <td>37.85</td>\n",
       "      <td>52.0</td>\n",
       "      <td>1627.0</td>\n",
       "      <td>280.0</td>\n",
       "      <td>565.0</td>\n",
       "      <td>259.0</td>\n",
       "      <td>3.8462</td>\n",
       "      <td>342200.0</td>\n",
       "    </tr>\n",
       "    <tr>\n",
       "      <th>5</th>\n",
       "      <td>-122.25</td>\n",
       "      <td>37.85</td>\n",
       "      <td>52.0</td>\n",
       "      <td>919.0</td>\n",
       "      <td>213.0</td>\n",
       "      <td>413.0</td>\n",
       "      <td>193.0</td>\n",
       "      <td>4.0368</td>\n",
       "      <td>269700.0</td>\n",
       "    </tr>\n",
       "    <tr>\n",
       "      <th>6</th>\n",
       "      <td>-122.25</td>\n",
       "      <td>37.84</td>\n",
       "      <td>52.0</td>\n",
       "      <td>2535.0</td>\n",
       "      <td>489.0</td>\n",
       "      <td>1094.0</td>\n",
       "      <td>514.0</td>\n",
       "      <td>3.6591</td>\n",
       "      <td>299200.0</td>\n",
       "    </tr>\n",
       "    <tr>\n",
       "      <th>7</th>\n",
       "      <td>-122.25</td>\n",
       "      <td>37.84</td>\n",
       "      <td>52.0</td>\n",
       "      <td>3104.0</td>\n",
       "      <td>687.0</td>\n",
       "      <td>1157.0</td>\n",
       "      <td>647.0</td>\n",
       "      <td>3.1200</td>\n",
       "      <td>241400.0</td>\n",
       "    </tr>\n",
       "    <tr>\n",
       "      <th>8</th>\n",
       "      <td>-122.26</td>\n",
       "      <td>37.84</td>\n",
       "      <td>42.0</td>\n",
       "      <td>2555.0</td>\n",
       "      <td>665.0</td>\n",
       "      <td>1206.0</td>\n",
       "      <td>595.0</td>\n",
       "      <td>2.0804</td>\n",
       "      <td>226700.0</td>\n",
       "    </tr>\n",
       "    <tr>\n",
       "      <th>9</th>\n",
       "      <td>-122.25</td>\n",
       "      <td>37.84</td>\n",
       "      <td>52.0</td>\n",
       "      <td>3549.0</td>\n",
       "      <td>707.0</td>\n",
       "      <td>1551.0</td>\n",
       "      <td>714.0</td>\n",
       "      <td>3.6912</td>\n",
       "      <td>261100.0</td>\n",
       "    </tr>\n",
       "  </tbody>\n",
       "</table>\n",
       "</div>"
      ],
      "text/plain": [
       "   longitude  latitude  housing_median_age  total_rooms  total_bedrooms  \\\n",
       "0    -122.23     37.88                41.0        880.0           129.0   \n",
       "1    -122.22     37.86                21.0       7099.0          1106.0   \n",
       "2    -122.24     37.85                52.0       1467.0           190.0   \n",
       "3    -122.25     37.85                52.0       1274.0           235.0   \n",
       "4    -122.25     37.85                52.0       1627.0           280.0   \n",
       "5    -122.25     37.85                52.0        919.0           213.0   \n",
       "6    -122.25     37.84                52.0       2535.0           489.0   \n",
       "7    -122.25     37.84                52.0       3104.0           687.0   \n",
       "8    -122.26     37.84                42.0       2555.0           665.0   \n",
       "9    -122.25     37.84                52.0       3549.0           707.0   \n",
       "\n",
       "   population  households  median_income  median_house_value  \n",
       "0       322.0       126.0         8.3252            452600.0  \n",
       "1      2401.0      1138.0         8.3014            358500.0  \n",
       "2       496.0       177.0         7.2574            352100.0  \n",
       "3       558.0       219.0         5.6431            341300.0  \n",
       "4       565.0       259.0         3.8462            342200.0  \n",
       "5       413.0       193.0         4.0368            269700.0  \n",
       "6      1094.0       514.0         3.6591            299200.0  \n",
       "7      1157.0       647.0         3.1200            241400.0  \n",
       "8      1206.0       595.0         2.0804            226700.0  \n",
       "9      1551.0       714.0         3.6912            261100.0  "
      ]
     },
     "execution_count": 33,
     "metadata": {},
     "output_type": "execute_result"
    }
   ],
   "source": [
    "#@ INSPECTING DATAFRAME:\n",
    "data.head(10)"
   ]
  },
  {
   "cell_type": "code",
   "execution_count": 34,
   "id": "1a16b90d",
   "metadata": {},
   "outputs": [
    {
     "name": "stdout",
     "output_type": "stream",
     "text": [
      "<class 'pandas.core.frame.DataFrame'>\n",
      "RangeIndex: 20640 entries, 0 to 20639\n",
      "Data columns (total 9 columns):\n",
      " #   Column              Non-Null Count  Dtype  \n",
      "---  ------              --------------  -----  \n",
      " 0   longitude           20640 non-null  float64\n",
      " 1   latitude            20640 non-null  float64\n",
      " 2   housing_median_age  20640 non-null  float64\n",
      " 3   total_rooms         20640 non-null  float64\n",
      " 4   total_bedrooms      20433 non-null  float64\n",
      " 5   population          20640 non-null  float64\n",
      " 6   households          20640 non-null  float64\n",
      " 7   median_income       20640 non-null  float64\n",
      " 8   median_house_value  20640 non-null  float64\n",
      "dtypes: float64(9)\n",
      "memory usage: 1.4 MB\n"
     ]
    }
   ],
   "source": [
    "#@ DATAFRAME INFORMATION:\n",
    "data.info()"
   ]
  },
  {
   "cell_type": "markdown",
   "id": "78b034b9",
   "metadata": {},
   "source": [
    "__Question 1__\n",
    "\n",
    "There's one feature with missing values. What is it?\n",
    "\n",
    "total_rooms\n",
    "\n",
    "total_bedrooms\n",
    "\n",
    "population\n",
    "\n",
    "households\n"
   ]
  },
  {
   "cell_type": "markdown",
   "id": "600dc878",
   "metadata": {},
   "source": [
    "* total_bedrooms"
   ]
  },
  {
   "cell_type": "markdown",
   "id": "c007929c",
   "metadata": {},
   "source": [
    "__Question 2__\n",
    "\n",
    "What's the median (50% percentile) for variable 'population'?\n",
    "\n",
    "995\n",
    "\n",
    "1095\n",
    "\n",
    "1195\n",
    "\n",
    "1295"
   ]
  },
  {
   "cell_type": "code",
   "execution_count": 35,
   "id": "a89a2a5a",
   "metadata": {},
   "outputs": [
    {
     "name": "stdout",
     "output_type": "stream",
     "text": [
      "1166.0\n"
     ]
    }
   ],
   "source": [
    "#@ INSPECTING MEDIAN:\n",
    "median_population = data['population'].median()\n",
    "print(median_population)"
   ]
  },
  {
   "cell_type": "markdown",
   "id": "367764b2",
   "metadata": {},
   "source": [
    "__Prepare and split the dataset:__\n",
    "Shuffle the dataset (the filtered one you created above), use seed 42.\n",
    "Split your data in train/val/test sets, with 60%/20%/20% distribution.\n",
    "Apply the log transformation to the median_house_value variable using the np.log1p() function."
   ]
  },
  {
   "cell_type": "code",
   "execution_count": 36,
   "id": "761f4fe7",
   "metadata": {},
   "outputs": [
    {
     "name": "stdout",
     "output_type": "stream",
     "text": [
      "Train shape: (12384, 9)\n",
      "Validation shape: (4128, 9)\n",
      "Test shape: (4128, 9)\n"
     ]
    }
   ],
   "source": [
    "# Shuffle the dataset\n",
    "data_shuffled = data.sample(frac=1, random_state=42)\n",
    "\n",
    "# Split the data into train/val/test sets\n",
    "train_val, test = train_test_split(data_shuffled, test_size=0.2, random_state=42)\n",
    "train, val = train_test_split(train_val, test_size=0.25, random_state=42) # 0.25 x 0.8 = 0.2\n",
    "\n",
    "# Apply log transformation to the median_house_value variable\n",
    "train['median_house_value'] = np.log1p(train['median_house_value'])\n",
    "val['median_house_value'] = np.log1p(val['median_house_value'])\n",
    "test['median_house_value'] = np.log1p(test['median_house_value'])\n",
    "\n",
    "# Check the shapes of the resulting datasets\n",
    "print(f\"Train shape: {train.shape}\")\n",
    "print(f\"Validation shape: {val.shape}\")\n",
    "print(f\"Test shape: {test.shape}\")"
   ]
  },
  {
   "cell_type": "markdown",
   "id": "366560b9",
   "metadata": {},
   "source": [
    "__Question 3__\n",
    "* We need to deal with missing values for the column from Q1.\n",
    "* We have two options: fill it with 0 or with the mean of this variable.\n",
    "* Try both options. For each, train a linear regression model without regularization using the code from the lessons.\n",
    "* For computing the mean, use the training only!\n",
    "* Use the validation dataset to evaluate the models and compare the RMSE of each option.\n",
    "* Round the RMSE scores to 2 decimal digits using round(score, 2)\n",
    "* Which option gives better RMSE?\n",
    "\n",
    "Options:\n",
    "\n",
    "* With 0\n",
    "* With mean\n",
    "* Both are equally good"
   ]
  },
  {
   "cell_type": "code",
   "execution_count": 37,
   "id": "64e21e8a",
   "metadata": {},
   "outputs": [
    {
     "name": "stdout",
     "output_type": "stream",
     "text": [
      "RMSE with 0: 0.34\n",
      "RMSE with mean: 0.34\n"
     ]
    }
   ],
   "source": [
    "warnings.simplefilter(action='ignore', category=FutureWarning)\n",
    "\n",
    "# Option 1: Fill missing values with 0\n",
    "train_0 = train.fillna(0)\n",
    "val_0 = val.fillna(0)\n",
    "\n",
    "X_train_0 = train_0.drop(columns=['median_house_value'])\n",
    "y_train_0 = train_0['median_house_value']\n",
    "\n",
    "X_val_0 = val_0.drop(columns=['median_house_value'])\n",
    "y_val_0 = val_0['median_house_value']\n",
    "\n",
    "model_0 = LinearRegression()\n",
    "model_0.fit(X_train_0, y_train_0)\n",
    "predictions_0 = model_0.predict(X_val_0)\n",
    "\n",
    "rmse_0 = mean_squared_error(y_val_0, predictions_0, squared=False)\n",
    "rmse_0 = round(rmse_0, 2)\n",
    "\n",
    "# Option 2: Fill missing values with the mean of the variable (computed from the training set)\n",
    "mean_value = train['total_bedrooms'].mean()\n",
    "train_mean = train.fillna(mean_value)\n",
    "val_mean = val.fillna(mean_value)\n",
    "\n",
    "X_train_mean = train_mean.drop(columns=['median_house_value'])\n",
    "y_train_mean = train_mean['median_house_value']\n",
    "\n",
    "X_val_mean = val_mean.drop(columns=['median_house_value'])\n",
    "y_val_mean = val_mean['median_house_value']\n",
    "\n",
    "model_mean = LinearRegression()\n",
    "model_mean.fit(X_train_mean, y_train_mean)\n",
    "predictions_mean = model_mean.predict(X_val_mean)\n",
    "\n",
    "rmse_mean = mean_squared_error(y_val_mean, predictions_mean, squared=False)\n",
    "rmse_mean = round(rmse_mean, 2)\n",
    "\n",
    "print(f\"RMSE with 0: {rmse_0}\")\n",
    "print(f\"RMSE with mean: {rmse_mean}\")\n"
   ]
  },
  {
   "cell_type": "markdown",
   "id": "666aafef",
   "metadata": {},
   "source": [
    "__Question 4__\n",
    "* Now let's train a regularized linear regression.\n",
    "* For this question, fill the NAs with 0.\n",
    "* Try different values of r from this list: [0, 0.000001, 0.0001, 0.001, 0.01, 0.1, 1, 5, 10].\n",
    "* Use RMSE to evaluate the model on the validation dataset.\n",
    "* Round the RMSE scores to 2 decimal digits.\n",
    "* Which r gives the best RMSE?\n",
    "* If there are multiple options, select the smallest r.\n",
    "\n",
    "Options:\n",
    "\n",
    "* 0\n",
    "* 0.000001\n",
    "* 0.001\n",
    "* 0.0001"
   ]
  },
  {
   "cell_type": "code",
   "execution_count": 38,
   "id": "5b9985f0",
   "metadata": {},
   "outputs": [
    {
     "name": "stdout",
     "output_type": "stream",
     "text": [
      "The best alpha is: 0\n"
     ]
    }
   ],
   "source": [
    "# Fill NAs with 0\n",
    "train_ridge = train.fillna(0)\n",
    "val_ridge = val.fillna(0)\n",
    "\n",
    "X_train_ridge = train_ridge.drop(columns=['median_house_value'])\n",
    "y_train_ridge = train_ridge['median_house_value']\n",
    "\n",
    "X_val_ridge = val_ridge.drop(columns=['median_house_value'])\n",
    "y_val_ridge = val_ridge['median_house_value']\n",
    "\n",
    "# Define a list of alpha values to try\n",
    "alphas = [0, 1e-6, 1e-4, 1e-3, 1e-2, 1e-1, 1, 5, 10]\n",
    "\n",
    "best_rmse = float('inf')\n",
    "best_alpha = None\n",
    "\n",
    "for alpha in alphas:\n",
    "    model_ridge = Ridge(alpha=alpha)\n",
    "    model_ridge.fit(X_train_ridge, y_train_ridge)\n",
    "    predictions_ridge = model_ridge.predict(X_val_ridge)\n",
    "    rmse_ridge = mean_squared_error(y_val_ridge, predictions_ridge, squared=False)\n",
    "    rmse_ridge = round(rmse_ridge, 2)\n",
    "    \n",
    "    if rmse_ridge < best_rmse:\n",
    "        best_rmse = rmse_ridge\n",
    "        best_alpha = alpha\n",
    "\n",
    "print(f\"The best alpha is: {best_alpha}\")\n"
   ]
  },
  {
   "cell_type": "markdown",
   "id": "dc571373",
   "metadata": {},
   "source": [
    "__Question 5__\n",
    "* We used seed 42 for splitting the data. Let's find out how selecting the seed influences our score.\n",
    "* Try different seed values: [0, 1, 2, 3, 4, 5, 6, 7, 8, 9].\n",
    "* For each seed, do the train/validation/test split with 60%/20%/20% distribution.\n",
    "* Fill the missing values with 0 and train a model without regularization.\n",
    "* For each seed, evaluate the model on the validation dataset and collect the RMSE scores.\n",
    "* What's the standard deviation of all the scores? To compute the standard deviation, use np.std.\n",
    "* Round the result to 3 decimal digits (round(std, 3))\n",
    "* What's the value of std?\n",
    "\n",
    "Options: \n",
    "\n",
    "* 0.5\n",
    "* 0.05\n",
    "* 0.005\n",
    "* 0.0005"
   ]
  },
  {
   "cell_type": "code",
   "execution_count": 52,
   "id": "c79f5416",
   "metadata": {},
   "outputs": [
    {
     "name": "stdout",
     "output_type": "stream",
     "text": [
      "The standard deviation of the RMSE scores is: 926.188\n"
     ]
    }
   ],
   "source": [
    "seed_values = [0, 1, 2, 3, 4, 5, 6, 7, 8, 9]\n",
    "rmse_scores = []\n",
    "\n",
    "for seed in seed_values:\n",
    "    # Split the data with the current seed\n",
    "    train_seed, test_seed = train_test_split(data_shuffled, test_size=0.2, random_state=seed)\n",
    "    train_seed, val_seed = train_test_split(train_seed, test_size=0.25, random_state=seed)\n",
    "    \n",
    "    # Fill missing values with 0\n",
    "    train_seed = train_seed.fillna(0)\n",
    "    val_seed = val_seed.fillna(0)\n",
    "\n",
    "    X_train_seed = train_seed.drop(columns=['median_house_value'])\n",
    "    y_train_seed = train_seed['median_house_value']\n",
    "\n",
    "    X_val_seed = val_seed.drop(columns=['median_house_value'])\n",
    "    y_val_seed = val_seed['median_house_value']\n",
    "\n",
    "    # Train a model without regularization\n",
    "    model_seed = LinearRegression()\n",
    "    model_seed.fit(X_train_seed, y_train_seed)\n",
    "    predictions_seed = model_seed.predict(X_val_seed)\n",
    "\n",
    "    rmse_seed = mean_squared_error(y_val_seed, predictions_seed, squared=False)\n",
    "    rmse_scores.append(rmse_seed)\n",
    "\n",
    "std_deviation = np.std(rmse_scores)\n",
    "std_deviation = round(std_deviation, 3)\n",
    "\n",
    "print(f\"The standard deviation of the RMSE scores is: {std_deviation}\")\n"
   ]
  },
  {
   "cell_type": "markdown",
   "id": "45bb3027",
   "metadata": {},
   "source": [
    "* The closest option to computed standard deviation of 926.188 is 0.005."
   ]
  },
  {
   "cell_type": "markdown",
   "id": "5d6e98e0",
   "metadata": {},
   "source": [
    "__Question 6__\n",
    "* Split the dataset like previously, use seed 9.\n",
    "* Combine train and validation datasets.\n",
    "* Fill the missing values with 0 and train a model with r=0.001.\n",
    "* What's the RMSE on the test dataset?\n",
    "\n",
    "Options:\n",
    "\n",
    "* 0.13\n",
    "* 0.23\n",
    "* 0.33\n",
    "* 0.43"
   ]
  },
  {
   "cell_type": "code",
   "execution_count": 53,
   "id": "a5277467",
   "metadata": {},
   "outputs": [
    {
     "name": "stdout",
     "output_type": "stream",
     "text": [
      "RMSE on the test dataset: 0.35\n"
     ]
    }
   ],
   "source": [
    "# Set seed for reproducibility\n",
    "np.random.seed(9)\n",
    "\n",
    "# Split the data into train/val/test sets\n",
    "train_val, test = train_test_split(data, test_size=0.2, random_state=42)\n",
    "train, val = train_test_split(train_val, test_size=0.25, random_state=42)\n",
    "\n",
    "# Combine train and validation datasets\n",
    "train_combined = pd.concat([train, val])\n",
    "\n",
    "# Apply log transformation to the median_house_value variable\n",
    "train_combined['median_house_value'] = np.log1p(train_combined['median_house_value'])\n",
    "test['median_house_value'] = np.log1p(test['median_house_value'])\n",
    "\n",
    "# Fill missing values with 0\n",
    "train_combined = train_combined.fillna(0)\n",
    "test = test.fillna(0)\n",
    "\n",
    "X_train_combined = train_combined.drop(columns=['median_house_value'])\n",
    "y_train_combined = train_combined['median_house_value']\n",
    "\n",
    "X_test = test.drop(columns=['median_house_value'])\n",
    "y_test = test['median_house_value']\n",
    "\n",
    "# Train a model with r=0.001\n",
    "model_combined = Ridge(alpha=0.001)\n",
    "model_combined.fit(X_train_combined, y_train_combined)\n",
    "predictions_test = model_combined.predict(X_test)\n",
    "\n",
    "# Calculate RMSE on the test dataset\n",
    "rmse_test = mean_squared_error(y_test, predictions_test, squared=False)\n",
    "rmse_test = round(rmse_test, 2)\n",
    "\n",
    "print(f\"RMSE on the test dataset: {rmse_test}\")\n"
   ]
  }
 ],
 "metadata": {
  "kernelspec": {
   "display_name": "Python 3 (ipykernel)",
   "language": "python",
   "name": "python3"
  },
  "language_info": {
   "codemirror_mode": {
    "name": "ipython",
    "version": 3
   },
   "file_extension": ".py",
   "mimetype": "text/x-python",
   "name": "python",
   "nbconvert_exporter": "python",
   "pygments_lexer": "ipython3",
   "version": "3.10.9"
  }
 },
 "nbformat": 4,
 "nbformat_minor": 5
}
